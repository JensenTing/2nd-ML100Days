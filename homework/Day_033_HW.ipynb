{
 "cells": [
  {
   "cell_type": "markdown",
   "metadata": {},
   "source": [
    "## 練習時間"
   ]
  },
  {
   "cell_type": "markdown",
   "metadata": {},
   "source": [
    "請觀看李宏毅教授以神奇寶貝進化 CP 值預測的範例，解說何謂機器學習與過擬合。並回答以下問題"
   ]
  },
  {
   "cell_type": "markdown",
   "metadata": {},
   "source": [
    "[youtube](https://www.youtube.com/watch?v=fegAeph9UaA)"
   ]
  },
  {
   "cell_type": "markdown",
   "metadata": {},
   "source": [
    "### 1. 模型的泛化能力 (generalization) 是指什麼？ \n",
    "ANS: Generalization is not about the performance on training set but about testing set, which means how the model's ability to handle with un-seem data, if it is good which imply your model's generaliztion is better than the model is doing good on training set but not very good on testing set.\n",
    "### 2. 分類問題與回歸問題分別可用的目標函數有哪些？\n",
    "ANS: object function = loss function = loss term + regularization term  \n",
    "     with classification problem:\n",
    "     loss term can be hinge loss,Log loss.   \n",
    "     with regression problem:\n",
    "     MAE,MSE\n",
    "     Regarding regularization term,\n",
    "     L1-regularization and L2-regularization"
   ]
  }
 ],
 "metadata": {
  "kernelspec": {
   "display_name": "Python 3",
   "language": "python",
   "name": "python3"
  },
  "language_info": {
   "codemirror_mode": {
    "name": "ipython",
    "version": 3
   },
   "file_extension": ".py",
   "mimetype": "text/x-python",
   "name": "python",
   "nbconvert_exporter": "python",
   "pygments_lexer": "ipython3",
   "version": "3.6.7"
  }
 },
 "nbformat": 4,
 "nbformat_minor": 2
}
