{
 "cells": [
  {
   "cell_type": "markdown",
   "metadata": {},
   "source": [
    "## [作業重點]\n",
    "使用 Sklearn 中的 Lasso, Ridge 模型，來訓練各種資料集，務必了解送進去模型訓練的**資料型態**為何，也請了解模型中各項參數的意義。\n",
    "\n",
    "機器學習的模型非常多種，但要訓練的資料多半有固定的格式，確保你了解訓練資料的格式為何，這樣在應用新模型時，就能夠最快的上手開始訓練！"
   ]
  },
  {
   "cell_type": "markdown",
   "metadata": {},
   "source": [
    "## 練習時間\n",
    "試著使用 sklearn datasets 的其他資料集 (boston, ...)，來訓練自己的線性迴歸模型，並加上適當的正則話來觀察訓練情形。"
   ]
  },
  {
   "cell_type": "code",
   "execution_count": 1,
   "metadata": {},
   "outputs": [],
   "source": [
    "#import necessary package\n",
    "import numpy as np\n",
    "from sklearn import datasets, linear_model\n",
    "from sklearn.model_selection import train_test_split\n",
    "from sklearn.metrics import mean_squared_error"
   ]
  },
  {
   "cell_type": "code",
   "execution_count": 2,
   "metadata": {},
   "outputs": [],
   "source": [
    "#loading data\n",
    "Boston = datasets.load_boston()\n",
    "\n",
    "# split data\n",
    "X_train, X_test, y_train, y_test = train_test_split(Boston.data, Boston.target, test_size=0.25, random_state=43)"
   ]
  },
  {
   "cell_type": "code",
   "execution_count": 3,
   "metadata": {},
   "outputs": [
    {
     "name": "stdout",
     "output_type": "stream",
     "text": [
      "Mean Square Error of linear regression model:  26.273991426429134\n"
     ]
    }
   ],
   "source": [
    "# fit a regression model\n",
    "regression = linear_model.LinearRegression()\n",
    "regression.fit(X_train, y_train)\n",
    "\n",
    "# predict y\n",
    "y_pred = regression.predict(X_test)\n",
    "\n",
    "# MSE\n",
    "print('Mean Square Error of linear regression model: ', mean_squared_error(y_test, y_pred))"
   ]
  },
  {
   "cell_type": "code",
   "execution_count": 10,
   "metadata": {},
   "outputs": [
    {
     "name": "stdout",
     "output_type": "stream",
     "text": [
      "Mean Square Error of Lasso model:  29.049218761091364\n"
     ]
    }
   ],
   "source": [
    "# fit a LASSO model\n",
    "lasso_l1 = linear_model.Lasso(alpha=0.3)\n",
    "lasso_l1.fit(X_train, y_train)\n",
    "\n",
    "# predict y\n",
    "y_pred = lasso_l1.predict(X_test)\n",
    "# MSE\n",
    "print('Mean Square Error of Lasso model: ', mean_squared_error(y_test, y_pred))"
   ]
  },
  {
   "cell_type": "code",
   "execution_count": 11,
   "metadata": {},
   "outputs": [
    {
     "name": "stdout",
     "output_type": "stream",
     "text": [
      "Mean Square Error of Lasso model:  29.360888063799496\n"
     ]
    }
   ],
   "source": [
    "# fit a LASSO model\n",
    "lasso_l1 = linear_model.Lasso(alpha=0.4)\n",
    "lasso_l1.fit(X_train, y_train)\n",
    "\n",
    "# predict y\n",
    "y_pred = lasso_l1.predict(X_test)\n",
    "# MSE\n",
    "print('Mean Square Error of Lasso model: ', mean_squared_error(y_test, y_pred))"
   ]
  },
  {
   "cell_type": "code",
   "execution_count": 6,
   "metadata": {},
   "outputs": [
    {
     "name": "stdout",
     "output_type": "stream",
     "text": [
      "Mean Square Error of Ridge Regression Model:  26.39973949315774\n"
     ]
    }
   ],
   "source": [
    "# fit a Ridge Regression model\n",
    "ridge_l2 = linear_model.Ridge(alpha=0.2)\n",
    "ridge_l2.fit(X_train, y_train)\n",
    "\n",
    "# predict y\n",
    "y_pred = ridge_l2.predict(X_test)\n",
    "\n",
    "# MSE\n",
    "print('Mean Square Error of Ridge Regression Model: ', mean_squared_error(y_test, y_pred))"
   ]
  },
  {
   "cell_type": "code",
   "execution_count": 9,
   "metadata": {},
   "outputs": [
    {
     "name": "stdout",
     "output_type": "stream",
     "text": [
      "Mean Square Error of Ridge Regression Model:  26.462638236539117\n"
     ]
    }
   ],
   "source": [
    "# fit a Ridge Regression model\n",
    "ridge_l2 = linear_model.Ridge(alpha=0.3)\n",
    "ridge_l2.fit(X_train, y_train)\n",
    "\n",
    "# predict y\n",
    "y_pred = ridge_l2.predict(X_test)\n",
    "\n",
    "# MSE\n",
    "print('Mean Square Error of Ridge Regression Model: ', mean_squared_error(y_test, y_pred))"
   ]
  },
  {
   "cell_type": "code",
   "execution_count": 8,
   "metadata": {},
   "outputs": [
    {
     "name": "stdout",
     "output_type": "stream",
     "text": [
      "Mean Square Error of Ridge Regression Model:  26.523353402030704\n"
     ]
    }
   ],
   "source": [
    "# fit a Ridge Regression model\n",
    "ridge_l2 = linear_model.Ridge(alpha=0.4)\n",
    "ridge_l2.fit(X_train, y_train)\n",
    "\n",
    "# predict y\n",
    "y_pred = ridge_l2.predict(X_test)\n",
    "\n",
    "# MSE\n",
    "print('Mean Square Error of Ridge Regression Model: ', mean_squared_error(y_test, y_pred))"
   ]
  },
  {
   "cell_type": "markdown",
   "metadata": {},
   "source": [
    "# It seems if alpha is greater than MSE is greater"
   ]
  }
 ],
 "metadata": {
  "kernelspec": {
   "display_name": "Python 3",
   "language": "python",
   "name": "python3"
  },
  "language_info": {
   "codemirror_mode": {
    "name": "ipython",
    "version": 3
   },
   "file_extension": ".py",
   "mimetype": "text/x-python",
   "name": "python",
   "nbconvert_exporter": "python",
   "pygments_lexer": "ipython3",
   "version": "3.6.7"
  }
 },
 "nbformat": 4,
 "nbformat_minor": 2
}
